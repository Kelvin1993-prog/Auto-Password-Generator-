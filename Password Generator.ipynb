{
 "cells": [
  {
   "cell_type": "markdown",
   "metadata": {},
   "source": [
    "### Password Code Generator"
   ]
  },
  {
   "cell_type": "code",
   "execution_count": 1,
   "metadata": {},
   "outputs": [
    {
     "name": "stdout",
     "output_type": "stream",
     "text": [
      "What is your desired password length? 7\n",
      "D\"Y@_tm\n"
     ]
    }
   ],
   "source": [
    "\n",
    "def my_password(*password):\n",
    "    \"\"\" Generates auto password\n",
    "    \"\"\"\n",
    "    import random\n",
    "    #the characters you want your password to generate from\n",
    "    char = 'abcdefghijklmnopqrstuvwxyzABCDEFGHIJKLMNOPQRSTUVWXYZ0123456789!@#$%^&*()_+{}|\"?\"'\n",
    "\n",
    "    length = input('What is your desired password length? ') \n",
    "    length = int(length) #required password length\n",
    "\n",
    "    password = ''\n",
    "    for p in range(length):\n",
    "        password += random.choice(char)\n",
    "    print(password)\n",
    "my_password()"
   ]
  },
  {
   "cell_type": "code",
   "execution_count": null,
   "metadata": {},
   "outputs": [],
   "source": []
  }
 ],
 "metadata": {
  "kernelspec": {
   "display_name": "Python 3",
   "language": "python",
   "name": "python3"
  },
  "language_info": {
   "codemirror_mode": {
    "name": "ipython",
    "version": 3
   },
   "file_extension": ".py",
   "mimetype": "text/x-python",
   "name": "python",
   "nbconvert_exporter": "python",
   "pygments_lexer": "ipython3",
   "version": "3.7.7"
  }
 },
 "nbformat": 4,
 "nbformat_minor": 4
}
