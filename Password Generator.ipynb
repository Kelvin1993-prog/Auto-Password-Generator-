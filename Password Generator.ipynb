
    "def my_password(*password):\n",
    "    \"\"\" Generates auto password\n",
    "    \"\"\"\n",
    "    import random\n",
    "    #the characters you want your password to generate from\n",
    "    char = 'abcdefghijklmnopqrstuvwxyzABCDEFGHIJKLMNOPQRSTUVWXYZ0123456789!@#$%^&*()_+{}|\"?\"'\n",
    "\n",
    "    length = input('What is your desired password length? ') \n",
    "    length = int(length) #required password length\n",
    "\n",
    "    password = ''\n",
    "    for p in range(length):\n",
    "        password += random.choice(char)\n",
    "    print(password)\n",
    "my_password()"
   ]
  },
  {
   "cell_type": "code",
   "execution_count": null,
   "metadata": {},
   "outputs": [],
   "source": []
  }
 ],
 "metadata": {
  "kernelspec": {
   "display_name": "Python 3",
   "language": "python",
   "name": "python3"
  }
 },
 "nbformat": 4,
 "nbformat_minor": 4
}
